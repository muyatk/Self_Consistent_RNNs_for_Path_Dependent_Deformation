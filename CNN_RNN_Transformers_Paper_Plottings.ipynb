{
 "cells": [
  {
   "cell_type": "code",
   "execution_count": 1,
   "metadata": {},
   "outputs": [
    {
     "name": "stderr",
     "output_type": "stream",
     "text": [
      "\n",
      "Bad key pcolormesh.snap in file C:\\Users\\Admin\\.conda\\envs\\myGPU\\lib\\site-packages\\matplotlib\\mpl-data\\matplotlibrc, line 134 ('pcolormesh.snap : True  # Whether to snap the mesh to pixel boundaries. This')\n",
      "You probably need to get an updated matplotlibrc file from\n",
      "https://github.com/matplotlib/matplotlib/blob/v3.3.4/matplotlibrc.template\n",
      "or from the matplotlib source distribution\n",
      "\n",
      "Bad key axes.zmargin in file C:\\Users\\Admin\\.conda\\envs\\myGPU\\lib\\site-packages\\matplotlib\\mpl-data\\matplotlibrc, line 420 ('axes.zmargin:   .05  # z margin.  See `axes.Axes.margins`')\n",
      "You probably need to get an updated matplotlibrc file from\n",
      "https://github.com/matplotlib/matplotlib/blob/v3.3.4/matplotlibrc.template\n",
      "or from the matplotlib source distribution\n",
      "\n",
      "Bad key date.converter in file C:\\Users\\Admin\\.conda\\envs\\myGPU\\lib\\site-packages\\matplotlib\\mpl-data\\matplotlibrc, line 458 ('date.converter:                  auto')\n",
      "You probably need to get an updated matplotlibrc file from\n",
      "https://github.com/matplotlib/matplotlib/blob/v3.3.4/matplotlibrc.template\n",
      "or from the matplotlib source distribution\n",
      "\n",
      "Bad key date.interval_multiples in file C:\\Users\\Admin\\.conda\\envs\\myGPU\\lib\\site-packages\\matplotlib\\mpl-data\\matplotlibrc, line 460 ('date.interval_multiples:         True')\n",
      "You probably need to get an updated matplotlibrc file from\n",
      "https://github.com/matplotlib/matplotlib/blob/v3.3.4/matplotlibrc.template\n",
      "or from the matplotlib source distribution\n",
      "\n",
      "Bad key xtick.labelcolor in file C:\\Users\\Admin\\.conda\\envs\\myGPU\\lib\\site-packages\\matplotlib\\mpl-data\\matplotlibrc, line 477 ('xtick.labelcolor:    inherit # color of the tick labels or inherit from xtick.color')\n",
      "You probably need to get an updated matplotlibrc file from\n",
      "https://github.com/matplotlib/matplotlib/blob/v3.3.4/matplotlibrc.template\n",
      "or from the matplotlib source distribution\n",
      "\n",
      "Bad key ytick.labelcolor in file C:\\Users\\Admin\\.conda\\envs\\myGPU\\lib\\site-packages\\matplotlib\\mpl-data\\matplotlibrc, line 498 ('ytick.labelcolor:    inherit # color of the tick labels or inherit from ytick.color')\n",
      "You probably need to get an updated matplotlibrc file from\n",
      "https://github.com/matplotlib/matplotlib/blob/v3.3.4/matplotlibrc.template\n",
      "or from the matplotlib source distribution\n"
     ]
    }
   ],
   "source": [
    "import matplotlib.pyplot as plt\n",
    "from matplotlib.pyplot import figure\n",
    "import json\n",
    "import matplotlib.pyplot as plt\n",
    "from matplotlib.pyplot import figure\n",
    "from matplotlib.legend_handler import HandlerTuple\n",
    "import matplotlib.lines as mlines"
   ]
  },
  {
   "cell_type": "markdown",
   "metadata": {},
   "source": [
    "### GRU Blocks (TensorFlow)\n",
    "\n",
    "* Results based on changing number of hidden units and number of layers for each NN architecture :"
   ]
  },
  {
   "cell_type": "code",
   "execution_count": 2,
   "metadata": {},
   "outputs": [
    {
     "data": {
      "image/png": "[encoded data removed]",
      "text/plain": [
       "<Figure size 136.8x115.2 with 1 Axes>"
      ]
     },
     "metadata": {
      "needs_background": "light"
     },
     "output_type": "display_data"
    }
   ],
   "source": [
    "f = open(\"CNN_RNN_Transformers_Training_Results/GRU_blocks_0_10000_TensorFlow.json\")\n",
    "data = json.load(f)\n",
    "\n",
    "colors = [0,\"#5596D4\", \"#66AD32\", \"#D18525\", \"#e40c42\", \"#E182EC\"]\n",
    "\n",
    "plt.rcParams.update({'font.size': 7})\n",
    "\n",
    "fig, ax = plt.subplots(figsize=(1.9, 1.6))\n",
    "\n",
    "for j in range(1,6):         \n",
    "        \n",
    "    R = []\n",
    "\n",
    "    N = []\n",
    "    \n",
    "    K = []\n",
    "        \n",
    "    for i in range(len(data)):\n",
    "        \n",
    "        if data[i][\"parameter_values\"][1]==j:\n",
    "            \n",
    "            R.append(data[i]['mse_test'])\n",
    "            \n",
    "            K.append(data[i]['mse_train'])\n",
    "            \n",
    "            N.append(data[i][\"parameter_values\"][0])\n",
    "            \n",
    "            \n",
    "    plt.plot(N, R, label =  str(j), linestyle='dashed', linewidth=1, c = colors[j])\n",
    "    plt.plot(N, K, label= str(j), linewidth=1, c = colors[j])\n",
    "    \n",
    "\n",
    "test = mlines.Line2D([], [], color='black', linestyle='dashed', label='Test set')\n",
    "train = mlines.Line2D([], [], color='black', label = \"Train set\")\n",
    "\n",
    "block_1 = mlines.Line2D([], [], color=\"#5596D4\", label=r'$N_B$: 1 ')\n",
    "block_2 = mlines.Line2D([], [], color=\"#66AD32\", label=r'$N_B$: 2 ')\n",
    "block_3 = mlines.Line2D([], [], color=\"#D18525\", label=r'$N_B$: 3 ')\n",
    "block_4 = mlines.Line2D([], [], color=\"#e40c42\", label=r'$N_B$: 4 ')\n",
    "block_5 = mlines.Line2D([], [], color=\"#E182EC\", label=r'$N_B$: 5 ')\n",
    "\n",
    "plt.xticks([0,5,10,15,20,25])\n",
    "\n",
    "plt.title('GRU Based Architectures', fontsize=8)\n",
    "#plt.ylabel('Tensorlow \\n', fontsize=10)\n",
    "plt.ylabel('Mean Squared Error(MSE)', fontsize=8)\n",
    "plt.xlabel('Hidden Units in GRU Blocks', fontsize=7)\n",
    "\n",
    "plt.savefig(\"Plottings/CNN_RNN_Transformers/GRU_TensorFlow_Blocks.pdf\", format=\"pdf\", dpi=500)\n",
    "plt.savefig(\"Plottings/CNN_RNN_Transformers/GRU_TensorFlow_Blocks.png\", format=\"png\", dpi=500)\n",
    "    \n",
    "plt.show()"
   ]
  },
  {
   "cell_type": "markdown",
   "metadata": {},
   "source": [
    "### GRU Blocks (PyTorch)\n",
    "\n",
    "* Results based on number of parameters and number of layers"
   ]
  },
  {
   "cell_type": "code",
   "execution_count": 3,
   "metadata": {},
   "outputs": [
    {
     "data": {
      "image/png": "[encoded data removed]",
      "text/plain": [
       "<Figure size 136.8x115.2 with 1 Axes>"
      ]
     },
     "metadata": {
      "needs_background": "light"
     },
     "output_type": "display_data"
    }
   ],
   "source": [
    "f = open(\"CNN_RNN_Transformers_Training_Results/CNN_blocks_0_10000_PyTorch.json\")\n",
    "data = json.load(f)\n",
    "\n",
    "colors = [0,\"#5596D4\", \"#66AD32\", \"#D18525\", \"#e40c42\", \"#E182EC\"]\n",
    "\n",
    "plt.rcParams.update({'font.size': 7})\n",
    "\n",
    "fig, ax = plt.subplots(figsize=(1.9, 1.6))\n",
    "\n",
    "\n",
    "for j in range(1,6):         \n",
    "        \n",
    "    R = []\n",
    "\n",
    "    N = []\n",
    "    \n",
    "    K = []\n",
    "        \n",
    "    for i in range(len(data)):\n",
    "        \n",
    "        if data[i][\"parameter_values\"][1]==j:\n",
    "            \n",
    "            R.append(data[i]['mse_test'])\n",
    "            \n",
    "            K.append(data[i]['mse_train'])\n",
    "            \n",
    "            N.append(data[i][\"number_of_parameters\"])\n",
    "            \n",
    "            \n",
    "    plt.plot(N, R, label =  str(j), linestyle='dashed', linewidth=1, c = colors[j])\n",
    "    plt.plot(N, K, label= str(j), linewidth=1, c = colors[j])\n",
    "\n",
    "plt.title('GRU Based Architectures', fontsize=8)\n",
    "plt.ylabel('Mean Squared Error(MSE)', fontsize=8)\n",
    "plt.xlabel('Nr. of Parameters', fontsize=7)\n",
    "\n",
    "plt.savefig(\"Plottings/CNN_RNN_Transformers/GRU_PyTorch_Blocks.pdf\", format=\"pdf\", dpi=500)\n",
    "plt.savefig(\"Plottings/CNN_RNN_Transformers/GRU_PyTorch_Blocks.png\", format=\"png\", dpi=500)\n",
    "    \n",
    "plt.show()"
   ]
  },
  {
   "cell_type": "markdown",
   "metadata": {},
   "source": [
    "### CNN Blocks (TensorFlow)"
   ]
  },
  {
   "cell_type": "code",
   "execution_count": 4,
   "metadata": {},
   "outputs": [
    {
     "data": {
      "image/png": "[encoded data removed]",
      "text/plain": [
       "<Figure size 136.8x115.2 with 1 Axes>"
      ]
     },
     "metadata": {
      "needs_background": "light"
     },
     "output_type": "display_data"
    }
   ],
   "source": [
    "f = open(\"CNN_RNN_Transformers_Training_Results/CNN_blocks_0_10000_TensorFlow.json\")\n",
    "data = json.load(f)\n",
    "\n",
    "colors = [0,\"#5596D4\", \"#66AD32\", \"#D18525\", \"#e40c42\", \"#E182EC\"]\n",
    "\n",
    "plt.rcParams.update({'font.size': 7})\n",
    "\n",
    "fig, ax = plt.subplots(figsize=(1.9, 1.6))\n",
    "\n",
    "for j in range(1,6):         \n",
    "        \n",
    "    R = []\n",
    "\n",
    "    N = []\n",
    "    \n",
    "    K = []\n",
    "        \n",
    "    for i in range(len(data)):\n",
    "        \n",
    "        if data[i][\"parameter_values\"][1]==j:\n",
    "            \n",
    "            R.append(data[i]['mse_test'])\n",
    "            \n",
    "            K.append(data[i]['mse_train'])\n",
    "            \n",
    "            N.append(data[i][\"parameter_values\"][0])\n",
    "            \n",
    "            \n",
    "    plt.plot(N, R, label =  str(j), linestyle='dashed', linewidth=1, c = colors[j])\n",
    "    plt.plot(N, K, label= str(j), linewidth=1, c = colors[j])\n",
    "    \n",
    "\n",
    "test = mlines.Line2D([], [], color='black', linestyle='dashed', label='Test set')\n",
    "train = mlines.Line2D([], [], color='black', label = \"Train set\")\n",
    "\n",
    "plt.title('CNN Based Architectures', fontsize=8)\n",
    "plt.ylabel('Mean Squared Error(MSE)', fontsize=8)\n",
    "plt.xlabel('Nr. of CNN Layers in each Block', fontsize=7)\n",
    "\n",
    "plt.savefig(\"Plottings/CNN_RNN_Transformers/CNN_TensorFlow_Blocks.pdf\", format=\"pdf\", dpi=500)\n",
    "plt.savefig(\"Plottings/CNN_RNN_Transformers/CNN_TensorFlow_Blocks.png\", format=\"png\", dpi=500)\n",
    "    \n",
    "plt.show()"
   ]
  },
  {
   "cell_type": "markdown",
   "metadata": {},
   "source": [
    "### CNN Blocks (PyTorch)"
   ]
  },
  {
   "cell_type": "code",
   "execution_count": 5,
   "metadata": {},
   "outputs": [
    {
     "data": {
      "image/png": "[encoded data removed]",
      "text/plain": [
       "<Figure size 136.8x115.2 with 1 Axes>"
      ]
     },
     "metadata": {
      "needs_background": "light"
     },
     "output_type": "display_data"
    }
   ],
   "source": [
    "f = open(\"CNN_RNN_Transformers_Training_Results/CNN_blocks_0_10000_PyTorch.json\")\n",
    "data = json.load(f)\n",
    "\n",
    "colors = [0,\"#5596D4\", \"#66AD32\", \"#D18525\", \"#e40c42\", \"#E182EC\"]\n",
    "\n",
    "plt.rcParams.update({'font.size': 7})\n",
    "\n",
    "fig, ax = plt.subplots(figsize=(1.9, 1.6))\n",
    "\n",
    "\n",
    "for j in range(1,6):         \n",
    "        \n",
    "    R = []\n",
    "\n",
    "    N = []\n",
    "    \n",
    "    K = []\n",
    "        \n",
    "    for i in range(len(data)):\n",
    "        \n",
    "        if data[i][\"parameter_values\"][1]==j:\n",
    "            \n",
    "            R.append(data[i]['mse_test'])\n",
    "            \n",
    "            K.append(data[i]['mse_train'])\n",
    "            \n",
    "            N.append(data[i][\"number_of_parameters\"])\n",
    "            \n",
    "            \n",
    "    plt.plot(N, R, label =  str(j), linestyle='dashed', linewidth=1, c = colors[j])\n",
    "    plt.plot(N, K, label= str(j), linewidth=1, c = colors[j])\n",
    "\n",
    "plt.title('GRU Based Architectures', fontsize=8)\n",
    "plt.ylabel('Mean Squared Error(MSE)', fontsize=8)\n",
    "plt.xlabel('Nr. of Parameters', fontsize=7)\n",
    "\n",
    "plt.savefig(\"Plottings/CNN_RNN_Transformers/CNN_PyTorch_Blocks.pdf\", format=\"pdf\", dpi=500)\n",
    "plt.savefig(\"Plottings/CNN_RNN_Transformers/CNN_PyTorch_Blocks.png\", format=\"png\", dpi=500)\n",
    "    \n",
    "plt.show()"
   ]
  },
  {
   "cell_type": "markdown",
   "metadata": {},
   "source": [
    "### Transformer Blocks (TensorFlow)"
   ]
  },
  {
   "cell_type": "code",
   "execution_count": 6,
   "metadata": {},
   "outputs": [
    {
     "data": {
      "image/png": "[encoded data removed]",
      "text/plain": [
       "<Figure size 136.8x115.2 with 1 Axes>"
      ]
     },
     "metadata": {
      "needs_background": "light"
     },
     "output_type": "display_data"
    }
   ],
   "source": [
    "f = open(\"CNN_RNN_Transformers_Training_Results/Transformer_blocks_0_10000_TensorFlow.json\")\n",
    "data = json.load(f)\n",
    "\n",
    "colors = [0,\"#5596D4\", \"#66AD32\", \"#D18525\", \"#e40c42\", \"#E182EC\"]\n",
    "\n",
    "plt.rcParams.update({'font.size': 7})\n",
    "\n",
    "fig, ax = plt.subplots(figsize=(1.9, 1.6))\n",
    "\n",
    "for j in range(1,6):         \n",
    "        \n",
    "    R = []\n",
    "\n",
    "    N = []\n",
    "    \n",
    "    K = []\n",
    "        \n",
    "    for i in range(len(data)):\n",
    "        \n",
    "        if data[i][\"parameter_values\"][1]==j:\n",
    "            \n",
    "            R.append(data[i]['mse_test'])\n",
    "            \n",
    "            K.append(data[i]['mse_train'])\n",
    "            \n",
    "            N.append(data[i][\"parameter_values\"][0])\n",
    "            \n",
    "            \n",
    "    plt.plot(N, R, label =  str(j), linestyle='dashed', linewidth=1, c = colors[j])\n",
    "    plt.plot(N, K, label= str(j), linewidth=1, c = colors[j])\n",
    "    \n",
    "\n",
    "test = mlines.Line2D([], [], color='black', linestyle='dashed', label='Test set')\n",
    "train = mlines.Line2D([], [], color='black', label = \"Train set\")\n",
    "\n",
    "plt.title('Transformers Based Architectures', fontsize=8)\n",
    "plt.ylabel('Mean Squared Error(MSE)', fontsize=8)\n",
    "plt.xlabel('Nr. of Heads in each Block', fontsize=7)\n",
    "\n",
    "plt.savefig(\"Plottings/CNN_RNN_Transformers/Transformers_TensorFlow_Blocks.pdf\", format=\"pdf\", dpi=500)\n",
    "plt.savefig(\"Plottings/CNN_RNN_Transformers/Transformers_TensorFlow_Blocks.png\", format=\"png\", dpi=500)\n",
    "    \n",
    "plt.show()"
   ]
  },
  {
   "cell_type": "markdown",
   "metadata": {},
   "source": [
    "### Transformer Blocks (PyTorch)"
   ]
  },
  {
   "cell_type": "code",
   "execution_count": 7,
   "metadata": {},
   "outputs": [
    {
     "data": {
      "image/png": "[encoded data removed]",
      "text/plain": [
       "<Figure size 136.8x115.2 with 1 Axes>"
      ]
     },
     "metadata": {
      "needs_background": "light"
     },
     "output_type": "display_data"
    }
   ],
   "source": [
    "f = open(\"CNN_RNN_Transformers_Training_Results/Transformers_blocks_0_10000_PyTorch.json\")\n",
    "data = json.load(f)\n",
    "\n",
    "colors = [0,\"#5596D4\", \"#66AD32\", \"#D18525\", \"#e40c42\", \"#E182EC\"]\n",
    "\n",
    "plt.rcParams.update({'font.size': 7})\n",
    "\n",
    "fig, ax = plt.subplots(figsize=(1.9, 1.6))\n",
    "\n",
    "for j in range(1,6):         \n",
    "        \n",
    "    R = []\n",
    "\n",
    "    N = []\n",
    "    \n",
    "    K = []\n",
    "        \n",
    "    for i in range(len(data)):\n",
    "        \n",
    "        if data[i][\"parameter_values\"][1]==j:\n",
    "            \n",
    "            R.append(data[i]['mse_test'])\n",
    "            \n",
    "            K.append(data[i]['mse_train'])\n",
    "            \n",
    "            N.append(data[i]['number_of_parameters'])\n",
    "            \n",
    "            \n",
    "    plt.plot(N, R, label =  str(j), linestyle='dashed', linewidth=1, c = colors[j])\n",
    "    plt.plot(N, K, label= str(j), linewidth=1, c = colors[j])\n",
    "    \n",
    "\n",
    "test = mlines.Line2D([], [], color='black', linestyle='dashed', label='Test set')\n",
    "train = mlines.Line2D([], [], color='black', label = \"Train set\")\n",
    "\n",
    "plt.title('Architectures from Transformer Blocks', fontsize=8)\n",
    "plt.ylabel('Mean Squared Error(MSE)', fontsize=8)\n",
    "plt.xlabel('Nr. of Parameters', fontsize=7)\n",
    "\n",
    "plt.savefig(\"Plottings/CNN_RNN_Transformers/Transformers_PyTorch_Blocks.pdf\", format=\"pdf\", dpi=500)\n",
    "plt.savefig(\"Plottings/CNN_RNN_Transformers/Transformers_PyTorch_Blocks.png\", format=\"png\", dpi=500)\n",
    "    \n",
    "plt.show()"
   ]
  },
  {
   "cell_type": "markdown",
   "metadata": {},
   "source": [
    "## Drawing Big Big Picture : \n",
    "\n",
    "#### TensorFlow  :\n",
    "\n"
   ]
  },
  {
   "cell_type": "code",
   "execution_count": 8,
   "metadata": {},
   "outputs": [],
   "source": [
    "f = open(\"CNN_RNN_Transformers_Training_Results/CNN_blocks_0_10000_TensorFlow.json\")\n",
    "data_convolutions = json.load(f)\n",
    "\n",
    "f = open(\"CNN_RNN_Transformers_Training_Results/GRU_blocks_0_10000_TensorFlow.json\")\n",
    "data_rnns = json.load(f)\n",
    "\n",
    "f = open(\"CNN_RNN_Transformers_Training_Results/Transformer_blocks_0_10000_TensorFlow.json\")\n",
    "data_transformers = json.load(f)"
   ]
  },
  {
   "cell_type": "code",
   "execution_count": 9,
   "metadata": {},
   "outputs": [
    {
     "data": {
      "image/png": "[encoded data removed]",
      "text/plain": [
       "<Figure size 216x151.2 with 1 Axes>"
      ]
     },
     "metadata": {
      "needs_background": "light"
     },
     "output_type": "display_data"
    }
   ],
   "source": [
    "plt.rcParams['text.usetex'] = False\n",
    "\n",
    "plt.rcParams.update({'font.size': 7})\n",
    "\n",
    "T = []\n",
    "\n",
    "C = []\n",
    "\n",
    "Rnn = []\n",
    "\n",
    "colors = [\"#5596D4\", \"#66AD32\", \"#e40c42\"]\n",
    "markers = [0,\"v\", \"o\", \"s\", \"p\", \"D\"] \n",
    "\n",
    "fig, ax = plt.subplots(figsize=(3.0, 2.1))\n",
    "\n",
    "for j in range(1,6):         \n",
    "        \n",
    "    R = []\n",
    "\n",
    "    N = []\n",
    "        \n",
    "    for i in range(len(data_transformers)):\n",
    "        \n",
    "        if data_transformers[i][\"parameter_values\"][1]==j:\n",
    "            \n",
    "            R.append(data_transformers[i][\"mse_test\"])\n",
    "            \n",
    "            N.append(data_transformers[i][\"number_of_parameters\"])\n",
    "            \n",
    "    p_t_ = plt.scatter(N, R, marker = markers[j], s = 15, c = colors[0])\n",
    "    \n",
    "    T.append(p_t_)\n",
    "    \n",
    "for j in range(1,6):         \n",
    "        \n",
    "    R = []\n",
    "\n",
    "    N = []\n",
    "        \n",
    "    for i in range(len(data_convolutions)):\n",
    "        \n",
    "        if data_convolutions[i][\"parameter_values\"][1]==j:\n",
    "            \n",
    "            R.append(data_convolutions[i][\"mse_test\"])\n",
    "            \n",
    "            N.append(data_convolutions[i][\"number_of_parameters\"])\n",
    "            \n",
    "    p_c_ = plt.scatter(N, R, marker = markers[j], s = 15, c = colors[1])\n",
    "    \n",
    "    C.append(p_c_)\n",
    "    \n",
    "for j in range(1,6):         \n",
    "        \n",
    "    R = []\n",
    "\n",
    "    N = []\n",
    "        \n",
    "    for i in range(len(data_rnns)):\n",
    "        \n",
    "        if data_rnns[i][\"parameter_values\"][1]==j:\n",
    "            \n",
    "            R.append(data_rnns[i][\"mse_test\"])\n",
    "            \n",
    "            N.append(data_rnns[i][\"number_of_parameters\"])\n",
    "            \n",
    "    p_r_ = plt.scatter(N, R, marker = markers[j], s = 15, c = colors[2])\n",
    "    \n",
    "    Rnn.append(p_r_)\n",
    "\n",
    "\n",
    "plt.title('TensorFlow \\n MSE Results for Different Architectures', fontsize=10)\n",
    "plt.ylabel('Mean Squared Error(MSE)', fontsize=8)\n",
    "plt.xlabel('Number of Parameters', fontsize=7)\n",
    "\n",
    "trans = mlines.Line2D([], [], color = colors[0], marker='o', linestyle='None',markersize=3, label='Transformers')\n",
    "rnn = mlines.Line2D([], [], color = colors[2], marker='o', linestyle='None',markersize=5, label='LSTM')\n",
    "conv = mlines.Line2D([], [], color = colors[1], marker='o', linestyle='None',markersize=4, label='Convolutions')\n",
    "\n",
    "plt.savefig(\"Plottings/CNN_RNN_Transformers/Big_Picture_TensorFlow.pdf\", format=\"pdf\", dpi=500)\n",
    "plt.savefig(\"Plottings/CNN_RNN_Transformers/Big_Picture_TensorFlow.png\", format=\"png\", dpi=500)\n",
    "\n",
    "plt.show()"
   ]
  },
  {
   "cell_type": "code",
   "execution_count": 10,
   "metadata": {},
   "outputs": [
    {
     "data": {
      "image/png": "[encoded data removed]",
      "text/plain": [
       "<Figure size 432x288 with 1 Axes>"
      ]
     },
     "metadata": {
      "needs_background": "light"
     },
     "output_type": "display_data"
    }
   ],
   "source": [
    "plt.rcParams['text.usetex'] = False\n",
    "\n",
    "T = []\n",
    "\n",
    "C = []\n",
    "\n",
    "Rnn = []\n",
    "\n",
    "colors = [\"#5596D4\", \"#66AD32\", \"#e40c42\"]\n",
    "markers = [0,\"v\", \"o\", \"s\", \"p\", \"D\"] \n",
    "\n",
    "#figure(figsize=(15, 15), dpi=80)\n",
    "\n",
    "fig, ax = plt.subplots()\n",
    "\n",
    "for j in range(1,6):         \n",
    "        \n",
    "    R = []\n",
    "\n",
    "    N = []\n",
    "        \n",
    "    for i in range(len(data_transformers)):\n",
    "        \n",
    "        if data_transformers[i][\"parameter_values\"][1]==j:\n",
    "            \n",
    "            R.append(data_transformers[i][\"mse_test\"])\n",
    "            \n",
    "            N.append(data_transformers[i][\"number_of_parameters\"])\n",
    "            \n",
    "    p_t_ = plt.scatter(N, R, marker = markers[j], s = 15, c = colors[0])\n",
    "    \n",
    "    T.append(p_t_)\n",
    "    \n",
    "for j in range(1,6):         \n",
    "        \n",
    "    R = []\n",
    "\n",
    "    N = []\n",
    "        \n",
    "    for i in range(len(data_convolutions)):\n",
    "        \n",
    "        if data_convolutions[i][\"parameter_values\"][1]==j:\n",
    "            \n",
    "            R.append(data_convolutions[i][\"mse_test\"])\n",
    "            \n",
    "            N.append(data_convolutions[i][\"number_of_parameters\"])\n",
    "            \n",
    "    p_c_ = plt.scatter(N, R, marker = markers[j], s = 15, c = colors[1])\n",
    "    \n",
    "    C.append(p_c_)\n",
    "    \n",
    "for j in range(1,6):         \n",
    "        \n",
    "    R = []\n",
    "\n",
    "    N = []\n",
    "        \n",
    "    for i in range(len(data_rnns)):\n",
    "        \n",
    "        if data_rnns[i][\"parameter_values\"][1]==j:\n",
    "            \n",
    "            R.append(data_rnns[i][\"mse_test\"])\n",
    "            \n",
    "            N.append(data_rnns[i][\"number_of_parameters\"])\n",
    "            \n",
    "    p_r_ = plt.scatter(N, R, marker = markers[j], s = 15, c = colors[2])\n",
    "    \n",
    "    Rnn.append(p_r_)\n",
    "\n",
    "\n",
    "l_1 = plt.legend([(T[0], C[0], Rnn[0]), (T[1], C[1], Rnn[1]), (T[2], C[2], Rnn[2]), (T[3], C[3], Rnn[3]), (T[4], C[4], Rnn[4])], [r'$N_L = 1$', r'$N_L = 2$', r'$N_L = 3$', r'$N_L = 4$', r'$N_L = 5$'], numpoints=1, handler_map={tuple: HandlerTuple(ndivide=None)}, fontsize=\"10\",fancybox=True, loc=1) \n",
    "\n",
    "plt.title('MSE Results for Different Architectures', fontsize=10)\n",
    "plt.ylabel('Mean Squared Error(MSE)', fontsize=10)\n",
    "plt.xlabel('Number of Parameters', fontsize=10)\n",
    "#plt.legend()\n",
    "\n",
    "trans = mlines.Line2D([], [], color = colors[0], marker='o', linestyle='None',markersize=3, label='Transformers')\n",
    "rnn = mlines.Line2D([], [], color = colors[2], marker='o', linestyle='None',markersize=5, label='LSTM')\n",
    "conv = mlines.Line2D([], [], color = colors[1], marker='o', linestyle='None',markersize=4, label='Convolutions')\n",
    "\n",
    "l_2 = plt.legend(handles=[trans, conv, rnn], loc = 2, title=r'$N_L$: Number of Blocks', fontsize=\"7\")\n",
    "\n",
    "l_2.get_title().set_fontsize('7')\n",
    "\n",
    "ax.add_artist(l_1)\n",
    "ax.add_artist(l_2)\n",
    "\n",
    "plt.savefig(\"Plottings/CNN_RNN_Transformers/paper_drawing_TensorFlow.pdf\", format=\"pdf\", dpi=500)\n",
    "plt.savefig(\"Plottings/CNN_RNN_Transformers/paper_drawing_TensorFlow.png\", format=\"png\", dpi=500)\n",
    "\n",
    "plt.show()"
   ]
  },
  {
   "cell_type": "markdown",
   "metadata": {},
   "source": [
    "### PyTorch :"
   ]
  },
  {
   "cell_type": "code",
   "execution_count": 11,
   "metadata": {},
   "outputs": [],
   "source": [
    "f = open(\"CNN_RNN_Transformers_Training_Results/CNN_blocks_0_10000_PyTorch.json\")\n",
    "data_convolutions = json.load(f)\n",
    "\n",
    "f = open(\"CNN_RNN_Transformers_Training_Results/GRU_blocks_0_10000_PyTorch.json\")\n",
    "data_rnns = json.load(f)\n",
    "\n",
    "f = open(\"CNN_RNN_Transformers_Training_Results/Transformers_blocks_0_10000_PyTorch.json\")\n",
    "data_transformers = json.load(f)"
   ]
  },
  {
   "cell_type": "code",
   "execution_count": 12,
   "metadata": {},
   "outputs": [
    {
     "data": {
      "image/png": "[encoded data removed]",
      "text/plain": [
       "<Figure size 216x151.2 with 1 Axes>"
      ]
     },
     "metadata": {
      "needs_background": "light"
     },
     "output_type": "display_data"
    }
   ],
   "source": [
    "plt.rcParams['text.usetex'] = False\n",
    "\n",
    "plt.rcParams.update({'font.size': 7})\n",
    "\n",
    "T = []\n",
    "\n",
    "C = []\n",
    "\n",
    "Rnn = []\n",
    "\n",
    "colors = [\"#5596D4\", \"#66AD32\", \"#e40c42\"]\n",
    "markers = [0,\"v\", \"o\", \"s\", \"p\", \"D\"] \n",
    "\n",
    "#figure(figsize=(15, 15), dpi=80)\n",
    "\n",
    "fig, ax = plt.subplots(figsize=(3.0, 2.1))\n",
    "\n",
    "for j in range(1,6):         \n",
    "        \n",
    "    R = []\n",
    "\n",
    "    N = []\n",
    "        \n",
    "    for i in range(len(data_transformers)):\n",
    "        \n",
    "        if data_transformers[i][\"parameter_values\"][1]==j:\n",
    "            \n",
    "            R.append(data_transformers[i][\"mse_test\"])\n",
    "            \n",
    "            N.append(data_transformers[i][\"number_of_parameters\"])\n",
    "            \n",
    "    p_t_ = plt.scatter(N, R, marker = markers[j], s = 15, c = colors[0])\n",
    "    \n",
    "    T.append(p_t_)\n",
    "    \n",
    "for j in range(1,6):         \n",
    "        \n",
    "    R = []\n",
    "\n",
    "    N = []\n",
    "        \n",
    "    for i in range(len(data_convolutions)):\n",
    "        \n",
    "        if data_convolutions[i][\"parameter_values\"][1]==j:\n",
    "            \n",
    "            R.append(data_convolutions[i][\"mse_test\"])\n",
    "            \n",
    "            N.append(data_convolutions[i][\"number_of_parameters\"])\n",
    "            \n",
    "    p_c_ = plt.scatter(N, R, marker = markers[j], s = 15, c = colors[1])\n",
    "    \n",
    "    C.append(p_c_)\n",
    "    \n",
    "for j in range(1,6):         \n",
    "        \n",
    "    R = []\n",
    "\n",
    "    N = []\n",
    "        \n",
    "    for i in range(len(data_rnns)):\n",
    "        \n",
    "        if data_rnns[i][\"parameter_values\"][1]==j:\n",
    "            \n",
    "            R.append(data_rnns[i][\"mse_test\"])\n",
    "            \n",
    "            N.append(data_rnns[i][\"number_of_parameters\"])\n",
    "            \n",
    "    p_r_ = plt.scatter(N, R, marker = markers[j], s = 15, c = colors[2])\n",
    "    \n",
    "    Rnn.append(p_r_)\n",
    "\n",
    "\n",
    "plt.title('PyTorch \\n MSE Results for Different Architectures', fontsize=10)\n",
    "plt.ylabel('Mean Squared Error(MSE)', fontsize=8)\n",
    "plt.xlabel('Number of Parameters', fontsize=7)\n",
    "\n",
    "plt.savefig(\"Plottings/CNN_RNN_Transformers/Big_Picture_PyTorch.pdf\", format=\"pdf\", dpi=500)\n",
    "plt.savefig(\"Plottings/CNN_RNN_Transformers/Big_Picture_PyTorch.png\", format=\"png\", dpi=500)\n",
    "\n",
    "plt.show()"
   ]
  },
  {
   "cell_type": "code",
   "execution_count": 13,
   "metadata": {},
   "outputs": [
    {
     "data": {
      "image/png": "[encoded data removed]",
      "text/plain": [
       "<Figure size 432x288 with 1 Axes>"
      ]
     },
     "metadata": {
      "needs_background": "light"
     },
     "output_type": "display_data"
    }
   ],
   "source": [
    "plt.rcParams['text.usetex'] = False\n",
    "\n",
    "T = []\n",
    "\n",
    "C = []\n",
    "\n",
    "Rnn = []\n",
    "\n",
    "colors = [\"#5596D4\", \"#66AD32\", \"#e40c42\"]\n",
    "markers = [0,\"v\", \"o\", \"s\", \"p\", \"D\"] \n",
    "\n",
    "#figure(figsize=(15, 15), dpi=80)\n",
    "\n",
    "fig, ax = plt.subplots()\n",
    "\n",
    "for j in range(1,6):         \n",
    "        \n",
    "    R = []\n",
    "\n",
    "    N = []\n",
    "        \n",
    "    for i in range(len(data_transformers)):\n",
    "        \n",
    "        if data_transformers[i][\"parameter_values\"][1]==j:\n",
    "            \n",
    "            R.append(data_transformers[i][\"mse_test\"])\n",
    "            \n",
    "            N.append(data_transformers[i][\"number_of_parameters\"])\n",
    "            \n",
    "    p_t_ = plt.scatter(N, R, marker = markers[j], s = 15, c = colors[0])\n",
    "    \n",
    "    T.append(p_t_)\n",
    "    \n",
    "for j in range(1,6):         \n",
    "        \n",
    "    R = []\n",
    "\n",
    "    N = []\n",
    "        \n",
    "    for i in range(len(data_convolutions)):\n",
    "        \n",
    "        if data_convolutions[i][\"parameter_values\"][1]==j:\n",
    "            \n",
    "            R.append(data_convolutions[i][\"mse_test\"])\n",
    "            \n",
    "            N.append(data_convolutions[i][\"number_of_parameters\"])\n",
    "            \n",
    "    p_c_ = plt.scatter(N, R, marker = markers[j], s = 15, c = colors[1])\n",
    "    \n",
    "    C.append(p_c_)\n",
    "    \n",
    "for j in range(1,6):         \n",
    "        \n",
    "    R = []\n",
    "\n",
    "    N = []\n",
    "        \n",
    "    for i in range(len(data_rnns)):\n",
    "        \n",
    "        if data_rnns[i][\"parameter_values\"][1]==j:\n",
    "            \n",
    "            R.append(data_rnns[i][\"mse_test\"])\n",
    "            \n",
    "            N.append(data_rnns[i][\"number_of_parameters\"])\n",
    "            \n",
    "    p_r_ = plt.scatter(N, R, marker = markers[j], s = 15, c = colors[2])\n",
    "    \n",
    "    Rnn.append(p_r_)\n",
    "\n",
    "\n",
    "l_1 = plt.legend([(T[0], C[0], Rnn[0]), (T[1], C[1], Rnn[1]), (T[2], C[2], Rnn[2]), (T[3], C[3], Rnn[3]), (T[4], C[4], Rnn[4])], [r'$N_L = 1$', r'$N_L = 2$', r'$N_L = 3$', r'$N_L = 4$', r'$N_L = 5$'], numpoints=1, handler_map={tuple: HandlerTuple(ndivide=None)}, fontsize=\"10\",fancybox=True, loc=1) \n",
    "\n",
    "plt.title('MSE Results for Different Architectures', fontsize=10)\n",
    "plt.ylabel('Mean Squared Error(MSE)', fontsize=10)\n",
    "plt.xlabel('Number of Parameters', fontsize=10)\n",
    "#plt.legend()\n",
    "\n",
    "trans = mlines.Line2D([], [], color = colors[0], marker='o', linestyle='None',markersize=3, label='Transformers')\n",
    "rnn = mlines.Line2D([], [], color = colors[2], marker='o', linestyle='None',markersize=5, label='LSTM')\n",
    "conv = mlines.Line2D([], [], color = colors[1], marker='o', linestyle='None',markersize=4, label='Convolutions')\n",
    "\n",
    "l_2 = plt.legend(handles=[trans, conv, rnn], loc = 2, title=r'$N_L$: Number of Blocks', fontsize=\"7\")\n",
    "\n",
    "l_2.get_title().set_fontsize('7')\n",
    "\n",
    "ax.add_artist(l_1)\n",
    "ax.add_artist(l_2)\n",
    "\n",
    "plt.savefig(\"Plottings/CNN_RNN_Transformers/paper_drawing_PyTorch.pdf\", format=\"pdf\", dpi=500)\n",
    "plt.savefig(\"Plottings/CNN_RNN_Transformers/paper_drawing_PyTorch.png\", format=\"png\", dpi=500)\n",
    "\n",
    "plt.show()"
   ]
  }
 ],
 "metadata": {
  "kernelspec": {
   "display_name": "Python 3",
   "language": "python",
   "name": "python3"
  },
  "language_info": {
   "codemirror_mode": {
    "name": "ipython",
    "version": 3
   },
   "file_extension": ".py",
   "mimetype": "text/x-python",
   "name": "python",
   "nbconvert_exporter": "python",
   "pygments_lexer": "ipython3",
   "version": "3.6.12"
  }
 },
 "nbformat": 4,
 "nbformat_minor": 4
}
